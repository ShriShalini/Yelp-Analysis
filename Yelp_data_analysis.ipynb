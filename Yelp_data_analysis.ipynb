{
 "cells": [
  {
   "cell_type": "markdown",
   "metadata": {},
   "source": [
    "# Business survival prediction"
   ]
  },
  {
   "cell_type": "markdown",
   "metadata": {},
   "source": [
    "## Contents\n",
    " - Motivation\n",
    " - Problem Description\n",
    " - Import and Helper Functions\n",
    " - Reading Yelp data\n",
    " - Feature Engineering, Cleaning\n",
    " - Exploratory Data Analysis\n",
    " - Modelling\n",
    " - Performance comparison of different models"
   ]
  },
  {
   "cell_type": "markdown",
   "metadata": {},
   "source": [
    "## Motivation\n",
    "\n",
    "\n",
    "- Most business owners have this question \"Will my business survive or not in the future years?\"\n",
    "- The survival of a business might depend on various factors: The locality of the business, the type of business, reviews and ratings a business gets, the type of users that use the business. \n",
    "- So, It would really be helpful to the business owners to know how likely it is for their business to survive. \n",
    "- The question one tries to answer is \"**Would a business survive after the year # ?**\"\n",
    "- Or this solution focuses on the year 2020 as Corona started this year and would be an interesting candidate for this question and **only restaurants** are considered for this analysis. So, the new question translates as follows\n",
    "- \"**Would your restaurant survive after the year 2020 ?**\"\n"
   ]
  },
  {
   "cell_type": "markdown",
   "metadata": {},
   "source": [
    "## Problem Description\n",
    "\n",
    "\n",
    "- First the yelp dataset given consists of multiple json files giving information about\n",
    " - user\n",
    " - review\n",
    " - checkin\n",
    " - tips\n",
    " - business\n",
    " \n",
    "- The column 'is_open' in the business dataset tell if the business is open at the time of release of the dataset ie, 2022\n",
    "- But this column does not give any information if the business would survive in the future.\n",
    "- **How to know if a business would survive in the future based on the \"is_open\" column?**\n",
    "    - To know if a business would survive or not, one must know the the date a business was closed.\n",
    "    - This date of closing for a closed business is not explicity given in the dataset. But one can assume this to be the **year of the last review/checkin/tip.**\n",
    "    \n",
    "    - **When can a business be considered as survived?**\n",
    "        - A business is considered survived after 2020, if the last review/checkin/tip is beyond 2020, regardless of the value of the \"is_open\" label.\n",
    "    - **When can a business be considered as not survived?**\n",
    "        - Let's say if the last review/checkin/tip of a business is in 2020 and the \"is_open\" label=0 (closed), then it could be assumed that the business closed in 2020.\n",
    "    \n",
    " \n",
    "    \n"
   ]
  },
  {
   "cell_type": "markdown",
   "metadata": {},
   "source": [
    "## Imports and Helper Functions"
   ]
  },
  {
   "cell_type": "code",
   "execution_count": 2,
   "metadata": {},
   "outputs": [],
   "source": [
    "import datetime\n",
    "import pandas as pd\n",
    "import numpy as np\n",
    "import matplotlib.pyplot as plt\n",
    "import shutil\n",
    "import os\n",
    "import json\n",
    "import csv\n",
    "from sklearn import preprocessing\n",
    "from sklearn import metrics\n",
    "from sklearn.model_selection import train_test_split\n",
    "import catboost as cb\n",
    "from sklearn.metrics import classification_report\n",
    "from imblearn.over_sampling import RandomOverSampler\n",
    "import seaborn as sns\n",
    "from sklearn.metrics import confusion_matrix\n",
    "from sklearn.metrics import precision_score, recall_score, f1_score, accuracy_score\n",
    "pd.set_option(\"display.max_columns\", 500)\n"
   ]
  },
  {
   "cell_type": "code",
   "execution_count": 3,
   "metadata": {},
   "outputs": [],
   "source": [
    "# Plotting the confusion matrix\n",
    "def confusion_matrix_plot(target_test, y_pred):\n",
    "    conf_matrix = confusion_matrix(y_true=target_test, y_pred=y_pred)\n",
    "    # Print the confusion matrix using Matplotlib\n",
    "    #\n",
    "    fig, ax = plt.subplots(figsize=(5, 5))\n",
    "    ax.matshow(conf_matrix, cmap=plt.cm.Oranges, alpha=0.3)\n",
    "    for i in range(conf_matrix.shape[0]):\n",
    "        for j in range(conf_matrix.shape[1]):\n",
    "            ax.text(x=j, y=i,s=conf_matrix[i, j], va='center', ha='center', size='xx-large')\n",
    "\n",
    "    plt.xlabel('Predictions', fontsize=18)\n",
    "    plt.ylabel('Actuals', fontsize=18)\n",
    "    plt.title('Confusion Matrix', fontsize=18)\n",
    "    plt.show()\n",
    "    \n",
    "# function to convert a json file into a tsv file (tab-separated values file)\n",
    "def json_to_tsv(input_name, output_name, columns):\n",
    "    outfile = open(output_name, 'w')\n",
    "    sfile = csv.writer(outfile, delimiter =\"\\t\", quoting=csv.QUOTE_MINIMAL)\n",
    "    sfile.writerow(columns)\n",
    "    with open(input_name, encoding=\"utf-8\") as f:\n",
    "        for line in f:\n",
    "            row = json.loads(line)\n",
    "            write_list = []\n",
    "            # some special char must be encoded in 'utf-8'\n",
    "            for i in columns:\n",
    "                write_list.append(row[i])\n",
    "            sfile.writerow(write_list)    \n",
    "    outfile.close()"
   ]
  },
  {
   "cell_type": "markdown",
   "metadata": {},
   "source": [
    "## Reading Yelp Data"
   ]
  },
  {
   "cell_type": "markdown",
   "metadata": {},
   "source": [
    "**Reading JSON review file into dataframe**"
   ]
  },
  {
   "cell_type": "code",
   "execution_count": 4,
   "metadata": {},
   "outputs": [],
   "source": [
    "#reading review data\n",
    "\n",
    "input_review = 'yelp_dataset/yelp_academic_dataset_review.json'\n",
    "output_review = \"review_stars.tsv\"\n",
    "cols_review = [ 'business_id',  'date']\n",
    "json_to_tsv(input_review, output_review, cols_review)\n",
    "df_review = pd.read_csv(output_review, delimiter =\"\\t\", encoding=\"utf-8\")"
   ]
  },
  {
   "cell_type": "markdown",
   "metadata": {},
   "source": [
    "**Reading JSON checkin file into dataframe**"
   ]
  },
  {
   "cell_type": "code",
   "execution_count": 5,
   "metadata": {
    "scrolled": true
   },
   "outputs": [],
   "source": [
    "#reading checkin data\n",
    "\n",
    "input_checkin = 'yelp_dataset/yelp_academic_dataset_checkin.json'\n",
    "output_checkin = \"checkin.tsv\"\n",
    "cols_checkin = ['business_id','date']\n",
    "json_to_tsv(input_checkin, output_checkin, cols_checkin)\n",
    "df_checkin = pd.read_csv(output_checkin, delimiter =\"\\t\", encoding=\"utf-8\")\n"
   ]
  },
  {
   "cell_type": "markdown",
   "metadata": {},
   "source": [
    "**Reading JSON tips file into dataframe**"
   ]
  },
  {
   "cell_type": "code",
   "execution_count": 6,
   "metadata": {},
   "outputs": [],
   "source": [
    "#reading tips data\n",
    "\n",
    "input_tip = 'yelp_dataset/yelp_academic_dataset_tip.json'\n",
    "output_tip = \"tip.tsv\"\n",
    "cols_tip = ['date','business_id']\n",
    "json_to_tsv(input_tip, output_tip, cols_tip)\n",
    "df_tip = pd.read_csv(output_tip, delimiter =\"\\t\", encoding=\"utf-8\")\n"
   ]
  },
  {
   "cell_type": "markdown",
   "metadata": {},
   "source": [
    "**Reading JSON business file into dataframe**"
   ]
  },
  {
   "cell_type": "code",
   "execution_count": 7,
   "metadata": {},
   "outputs": [],
   "source": [
    "#reading business data\n",
    "\n",
    "input_business = 'yelp_dataset/yelp_academic_dataset_business.json'\n",
    "output_business = \"business.tsv\"\n",
    "cols_business = ['business_id','name', \"city\",'state','postal_code','latitude','longitude',\n",
    "                \"stars\", 'review_count', 'is_open','attributes','categories', 'hours']\n",
    "json_to_tsv(input_business, output_business, cols_business)\n",
    "df_business = pd.read_csv(output_business, delimiter =\"\\t\", encoding=\"utf-8\")\n"
   ]
  },
  {
   "cell_type": "markdown",
   "metadata": {},
   "source": [
    "##  Feature engineering, Cleaning"
   ]
  },
  {
   "cell_type": "markdown",
   "metadata": {},
   "source": [
    "**In this section:**\n",
    " - useful features are derived\n",
    " - the derived features are cleaned\n",
    "\n",
    "The business dataset from Yelp is predominantly used with the following features derived.\n",
    " \n",
    "**Features derived**\n",
    " - **Last activity of a business**\n",
    "     - When did a business get its last tip/checkin/review?\n",
    " - **First activity of a business**\n",
    "     - When did a business get its first tip/checkin/review?\n",
    " - **Age**\n",
    "     - What is the age of the business as of 2020?\n",
    " - **Total tip**\n",
    "     - The total number of tips a business has received.\n",
    " - **Total checkin**\n",
    "     - The total number of checkin a business has received.    \n",
    " - **Number of similar businesses in the same state**\n",
    "     - The total number of similar businesses in the same state.\n",
    "  "
   ]
  },
  {
   "cell_type": "code",
   "execution_count": 8,
   "metadata": {},
   "outputs": [],
   "source": [
    "#class that does feature engineering and preprocessing\n",
    "class Data_preprocess:\n",
    " \n",
    "    # init method or constructor\n",
    "    def __init__(self):\n",
    "        self.year = 2020\n",
    "        self.df_tip = df_tip.copy()\n",
    "        self.df_checkin = df_checkin.copy()\n",
    "        self.df_review = df_review.copy()\n",
    "        self.df_business = df_business.copy()\n",
    "        \n",
    "        ## restricting businesses to only restaurants\n",
    "        self.df_business = self.df_business[self.df_business['categories'].str.contains(\n",
    "              'Restaurants|Food|restaurants|food',\n",
    "              case=False, na=False)]\n",
    "    \n",
    "    # Method to find out year of the last and first tip for a business\n",
    "    def derive_last_tip_feature(self):\n",
    "        self.df_tip[\"date\"] = pd.to_datetime(self.df_tip[\"date\"]).dt.year\n",
    "        self.df_tip = self.df_tip.join(self.df_tip.groupby(\"business_id\")[\"date\"].max(), on='business_id', rsuffix='_last_tip')\n",
    "        self.df_tip = self.df_tip.join(self.df_tip.groupby(\"business_id\")[\"date\"].min(), on='business_id', rsuffix='_first_tip')\n",
    "        self.df_tip_temp = self.df_tip.drop_duplicates(\"business_id\", keep=\"first\")\n",
    "        self.df_business = pd.merge(self.df_business, self.df_tip_temp[[\"business_id\", \"date_last_tip\",\"date_first_tip\"]], on=\"business_id\", how=\"left\")\n",
    "        \n",
    "    # Method to find out year of the last and first checkin for a business\n",
    "    def derive_last_checkin_feature(self):\n",
    "        self.df_checkin = self.df_checkin.assign(date = self.df_checkin.date\n",
    "                         .str.split(', ')).explode('date')\n",
    "        self.df_checkin[\"date\"] = pd.to_datetime(self.df_checkin[\"date\"]).dt.year\n",
    "        self.df_checkin = self.df_checkin.join(self.df_checkin.groupby(\"business_id\")[\"date\"].max(), on=\"business_id\", rsuffix=\"_last_checkin\")\n",
    "        self.df_checkin = self.df_checkin.join(self.df_checkin.groupby(\"business_id\")[\"date\"].min(), on=\"business_id\", rsuffix=\"_first_checkin\")\n",
    "        self.df_checkin_temp = self.df_checkin.drop_duplicates(\"business_id\", keep=\"first\")\n",
    "        self.df_business = pd.merge(self.df_business, self.df_checkin_temp[[\"business_id\", \"date_last_checkin\", \"date_first_checkin\"]], on=\"business_id\", how=\"left\")\n",
    "        \n",
    "    # Method to find out year of the last and first review for a business\n",
    "    def derive_last_review_feature(self):\n",
    "        self.df_review[\"date\"] = pd.to_datetime(self.df_review[\"date\"]).dt.year\n",
    "        self.df_review = self.df_review.join(self.df_review.groupby(\"business_id\")[\"date\"].max(), on='business_id', rsuffix='_last_review')\n",
    "        self.df_review = self.df_review.join(self.df_review.groupby(\"business_id\")[\"date\"].min(), on='business_id', rsuffix='_first_review')\n",
    "        self.df_temp = self.df_review.drop_duplicates(\"business_id\", keep=\"first\")\n",
    "        self.df_business = pd.merge(self.df_business, self.df_temp[[\"business_id\", \"date_last_review\", \"date_first_review\"]], on=\"business_id\", how=\"left\")\n",
    "        \n",
    "    # Method to find out year of the last and first activity computed using checkin, review and tip\n",
    "    def derive_last_activity_feature(self):\n",
    "        self.df_business[\"last_activity\"] = self.df_business[[\"date_last_tip\", \"date_last_checkin\",\"date_last_review\"]].max(axis=1)\n",
    "        self.df_business[\"first_activity\"] = self.df_business[[\"date_first_tip\", \"date_first_checkin\",\"date_first_review\"]].min(axis=1)\n",
    "        \n",
    "    # Age of the business\n",
    "    def derive_age_feature(self):\n",
    "        self.df_business.loc[:,\"age\"] = 0\n",
    "        self.df_business.loc[:,\"age\"] = self.year  - self.df_business.loc[:,\"first_activity\"]\n",
    "        \n",
    "    # Calculating the total number of tips a business has received so far\n",
    "    def derive_total_tip_feature(self):\n",
    "        self.df_tip = self.df_tip.loc[self.df_tip.date<=self.year]\n",
    "        self.df_tip = self.df_tip.join(self.df_tip.groupby(\"business_id\").count()[\"date\"], on=\"business_id\", rsuffix=\"_derived\")\n",
    "        self.df_tip = self.df_tip.rename({\"date_derived\":\"total_tip_count\"},axis=\"columns\")\n",
    "        self.df_tip_count = self.df_tip[[\"business_id\",\"total_tip_count\"]].drop_duplicates(\"business_id\", keep=\"first\")\n",
    "        self.df_business = pd.merge(self.df_business, self.df_tip_count, on=\"business_id\", how=\"left\")\n",
    "        \n",
    "    # Calculating the total number of checkins a business has received so far\n",
    "    def derive_total_checkin_feature(self):\n",
    "        self.df_checkin = self.df_checkin.loc[self.df_checkin[\"date\"]<=self.year]\n",
    "        self.df_checkin = self.df_checkin.join(self.df_checkin.groupby(\"business_id\").count()[\"date\"], on=\"business_id\", rsuffix=\"_derived\")\n",
    "        self.df_checkin = self.df_checkin.rename({\"date_derived\":\"total_checkin_count\"},axis=\"columns\")\n",
    "        self.df_checkin_count = self.df_checkin[[\"business_id\",\"total_checkin_count\"]].drop_duplicates(\"business_id\", keep=\"first\")\n",
    "        self.df_business = pd.merge(self.df_business, self.df_checkin_count, on=\"business_id\", how=\"left\")\n",
    "        \n",
    "    # How many similar businesses are around one business?\n",
    "    def similarity(self,x): \n",
    "        y = self.df_business.loc[(self.df_business[\"city\"] == x[\"city\"]) & (self.df_business[\"is_open\"] == 1) & (self.df_business[\"last_activity\"] >= x[\"last_activity\"]) ]\n",
    "        if(len(y)==0):\n",
    "            return 0\n",
    "        xcat = [x[11]]\n",
    "        xcat = pd.Series(xcat)\n",
    "        xcat = xcat.repeat([len(y)])\n",
    "        li = []\n",
    "        for a ,b in zip(xcat, y.categories):\n",
    "            if((isinstance(a, str)) & (isinstance(b, str))):\n",
    "                if(len(set(a) & set(b)))>1:\n",
    "                    li.append(1)\n",
    "                else: \n",
    "                    li.append(0)  \n",
    "            else:\n",
    "                return 0\n",
    "        return sum(li)-1\n",
    "    \n",
    "    # Cleaning rows\n",
    "    def clean_rows(self):\n",
    "        print(\"Removing irrelevant rows\")\n",
    "        \n",
    "        #Removing restaurants that were closed before 2020\n",
    "        df_dead_before_year = self.df_business.loc[(self.df_business[\"last_activity\"]<=self.year) & (self.df_business[\"is_open\"]==0) ]\n",
    "        self.df_business = self.df_business[~self.df_business.business_id.isin(df_dead_before_year.business_id)]\n",
    "        \n",
    "        #Considering only restaurants that were open on or before the year 2020\n",
    "        self.df_business = self.df_business.loc[self.df_business[\"first_activity\"]<=self.year]\n",
    "        self.df_business.loc[self.df_business[\"last_activity\"]>self.year,\"last_activity\"] = self.year\n",
    "        \n",
    "    # Dropping unnecessary columns and handle NULL values\n",
    "    def clean_columns(self):\n",
    "        \n",
    "        #Dropping unnecessary columns\n",
    "        drop_columns = [\"business_id\",\"name\",\"attributes\",\"hours\",\"categories\",\n",
    "               \"date_last_tip\",\"date_first_tip\",\"date_last_checkin\",\"date_first_checkin\",\n",
    "                \"date_last_review\", \"date_first_review\"]\n",
    "        self.df_business = self.df_business.drop(drop_columns, axis=1)\n",
    "        \n",
    "        # handle NULL values\n",
    "        self.df_business.loc[self.df_business[\"total_tip_count\"].isnull(),\"total_tip_count\"] = 0\n",
    "        self.df_business.loc[self.df_business[\"total_checkin_count\"].isnull(),\"total_checkin_count\"] = 0\n",
    "        self.df_business = self.df_business.loc[self.df_business[\"postal_code\"].notnull()]\n",
    "        print(self.df_business.isnull().sum())\n",
    "        \n",
    "\n",
    "    #derive features and clean them\n",
    "    def derive_clean_features(self):\n",
    "        \n",
    "        print(\"Calculating year of the last and first tip for a business\")\n",
    "        self.derive_last_tip_feature()\n",
    "        \n",
    "        print(\"Calculating year of the last and first checkin for a business\")\n",
    "        self.derive_last_checkin_feature()\n",
    "        \n",
    "        print(\"Calculating year of the last and first review for a business\")\n",
    "        self.derive_last_review_feature()\n",
    "        \n",
    "        print(\"Calculating year of the last and first activity computed using checkin, review and tip\")\n",
    "        self.derive_last_activity_feature()\n",
    "        \n",
    "        print(\"Removing irrelevant rows\")\n",
    "        self.clean_rows()\n",
    "        \n",
    "        print(\"Calculating age of a business\")\n",
    "        self.derive_age_feature()\n",
    "        \n",
    "        print(\"Calculating the total number of tips a business has received so far\")\n",
    "        self.derive_total_tip_feature()\n",
    "        \n",
    "        print(\"Calculating the total number of checkin a business has received so far\")\n",
    "        self.derive_total_checkin_feature()\n",
    "        \n",
    "        print(\"Calculating number of similar businesses\")\n",
    "        self.df_business[\"similar_restaurants\"] = self.df_business.apply(lambda x: self.similarity(x), axis=1)\n",
    "        \n",
    "        print(\"Removing irrelevant columns and handle NULL values\")\n",
    "        self.clean_columns()\n",
    "        return self.df_business\n",
    "\n"
   ]
  },
  {
   "cell_type": "code",
   "execution_count": 9,
   "metadata": {},
   "outputs": [
    {
     "name": "stdout",
     "output_type": "stream",
     "text": [
      "Calculating year of the last and first tip for a business\n",
      "Calculating year of the last and first checkin for a business\n",
      "Calculating year of the last and first review for a business\n",
      "Calculating year of the last and first activity computed using checkin, review and tip\n",
      "Removing irrelevant rows\n",
      "Removing irrelevant rows\n",
      "Calculating age of a business\n",
      "Calculating the total number of tips a business has received so far\n",
      "Calculating the total number of checkin a business has received so far\n",
      "Calculating number of similar businesses\n",
      "Removing irrelevant columns and handle NULL values\n",
      "city                   0\n",
      "state                  0\n",
      "postal_code            0\n",
      "latitude               0\n",
      "longitude              0\n",
      "stars                  0\n",
      "review_count           0\n",
      "is_open                0\n",
      "last_activity          0\n",
      "first_activity         0\n",
      "age                    0\n",
      "total_tip_count        0\n",
      "total_checkin_count    0\n",
      "similar_restaurants    0\n",
      "dtype: int64\n"
     ]
    }
   ],
   "source": [
    "# creating an object for the Data_preprocess class and deriving necessary features\n",
    "preprocess = Data_preprocess()\n",
    "df_business = preprocess.derive_clean_features() "
   ]
  },
  {
   "cell_type": "markdown",
   "metadata": {},
   "source": [
    "## Exploratory Data Analysis"
   ]
  },
  {
   "cell_type": "markdown",
   "metadata": {},
   "source": [
    "**What are the columns used and what are their datatypes?**"
   ]
  },
  {
   "cell_type": "code",
   "execution_count": 10,
   "metadata": {},
   "outputs": [
    {
     "data": {
      "text/plain": [
       "city                    object\n",
       "state                   object\n",
       "postal_code             object\n",
       "latitude               float64\n",
       "longitude              float64\n",
       "stars                  float64\n",
       "review_count             int64\n",
       "is_open                  int64\n",
       "last_activity          float64\n",
       "first_activity         float64\n",
       "age                    float64\n",
       "total_tip_count        float64\n",
       "total_checkin_count    float64\n",
       "similar_restaurants      int64\n",
       "dtype: object"
      ]
     },
     "execution_count": 10,
     "metadata": {},
     "output_type": "execute_result"
    }
   ],
   "source": [
    "df_business.dtypes"
   ]
  },
  {
   "cell_type": "markdown",
   "metadata": {},
   "source": [
    "**How are the features correlated with one another?**"
   ]
  },
  {
   "cell_type": "code",
   "execution_count": 11,
   "metadata": {},
   "outputs": [
    {
     "data": {
      "text/plain": [
       "[Text(0.5, 1.0, 'Heat map')]"
      ]
     },
     "execution_count": 11,
     "metadata": {},
     "output_type": "execute_result"
    },
    {
     "data": {
      "image/png": "[encoded data removed]",
      "text/plain": [
       "<Figure size 640x480 with 2 Axes>"
      ]
     },
     "metadata": {},
     "output_type": "display_data"
    }
   ],
   "source": [
    "sns.heatmap(df_business.corr()).set(title='Heat map')"
   ]
  },
  {
   "cell_type": "markdown",
   "metadata": {},
   "source": [
    "**Does age have any effect on the survival of a restaurant?**"
   ]
  },
  {
   "cell_type": "code",
   "execution_count": 12,
   "metadata": {},
   "outputs": [
    {
     "data": {
      "text/plain": [
       "[Text(0.5, 1.0, 'Comparison of average age of open/closed restaurants')]"
      ]
     },
     "execution_count": 12,
     "metadata": {},
     "output_type": "execute_result"
    },
    {
     "data": {
      "image/png": "[encoded data removed]",
      "text/plain": [
       "<Figure size 640x480 with 1 Axes>"
      ]
     },
     "metadata": {},
     "output_type": "display_data"
    }
   ],
   "source": [
    "sns.barplot(data=df_business, x=\"is_open\", y = \"age\").set(title='Comparison of average age of open/closed restaurants')"
   ]
  },
  {
   "cell_type": "markdown",
   "metadata": {},
   "source": [
    "Note: Average Age of open restaurants are higher compared to closed restaurants. This is expected"
   ]
  },
  {
   "cell_type": "markdown",
   "metadata": {},
   "source": [
    "**What is the distribution of stars for open and closed restaurants?**"
   ]
  },
  {
   "cell_type": "code",
   "execution_count": 13,
   "metadata": {},
   "outputs": [
    {
     "data": {
      "text/plain": [
       "[Text(0.5, 1.0, 'Distribution of stars for open and closed restaurants')]"
      ]
     },
     "execution_count": 13,
     "metadata": {},
     "output_type": "execute_result"
    },
    {
     "data": {
      "image/png": "[encoded data removed]",
      "text/plain": [
       "<Figure size 640x480 with 1 Axes>"
      ]
     },
     "metadata": {},
     "output_type": "display_data"
    }
   ],
   "source": [
    "sns.histplot(data=df_business, x=\"stars\", hue=\"is_open\").set(title='Distribution of stars for open and closed restaurants')"
   ]
  },
  {
   "cell_type": "markdown",
   "metadata": {},
   "source": [
    "**Does the number of similar business affect if a business would survive or not?**"
   ]
  },
  {
   "cell_type": "code",
   "execution_count": 14,
   "metadata": {},
   "outputs": [
    {
     "data": {
      "text/plain": [
       "Text(0.5, 1.0, 'Effect of no. similar restaurants on the survival')"
      ]
     },
     "execution_count": 14,
     "metadata": {},
     "output_type": "execute_result"
    },
    {
     "data": {
      "image/png": "[encoded data removed]",
      "text/plain": [
       "<Figure size 640x480 with 1 Axes>"
      ]
     },
     "metadata": {},
     "output_type": "display_data"
    }
   ],
   "source": [
    "sns.boxplot(data=df_business, x=\"is_open\", y=\"similar_restaurants\").set_title(\"Effect of no. similar restaurants on the survival\")"
   ]
  },
  {
   "cell_type": "markdown",
   "metadata": {},
   "source": [
    "Note: On average, the number of similar restaurants is less for open restaurants. This could mean less competition and could enhance the probability of survival"
   ]
  },
  {
   "cell_type": "markdown",
   "metadata": {},
   "source": [
    "## Modelling"
   ]
  },
  {
   "cell_type": "markdown",
   "metadata": {},
   "source": [
    "This is a **binary classification** task as the target \"is_open\" is binary.\n",
    "\n",
    "The following classifiers are used:\n",
    "- Logisitc regression (as a baseline)\n",
    "- Support Vector Classifier\n",
    "- Catboost (A gradient boosted decision tree)\n"
   ]
  },
  {
   "cell_type": "markdown",
   "metadata": {},
   "source": [
    "#### Handling categorical and numerical columns"
   ]
  },
  {
   "cell_type": "code",
   "execution_count": 15,
   "metadata": {},
   "outputs": [],
   "source": [
    "cat_features = list(df_business.drop(\"is_open\", axis=1).select_dtypes(exclude=[int, float]).columns)\n",
    "num_features = list(df_business.drop(\"is_open\", axis=1).select_dtypes(exclude=[object]).columns)"
   ]
  },
  {
   "cell_type": "code",
   "execution_count": 16,
   "metadata": {},
   "outputs": [
    {
     "data": {
      "text/plain": [
       "1    42928\n",
       "0     1652\n",
       "Name: is_open, dtype: int64"
      ]
     },
     "execution_count": 16,
     "metadata": {},
     "output_type": "execute_result"
    }
   ],
   "source": [
    "df_business[\"is_open\"].value_counts()"
   ]
  },
  {
   "cell_type": "markdown",
   "metadata": {},
   "source": [
    "The dataset is imbalanced with minority class being the closed restaurants\n",
    "#### Balancing the imbalanced dataset by oversampling the minority class"
   ]
  },
  {
   "cell_type": "code",
   "execution_count": 17,
   "metadata": {},
   "outputs": [],
   "source": [
    "oversample =RandomOverSampler(sampling_strategy =\"minority\")\n",
    "X, y = oversample.fit_resample(df_business.drop(\"is_open\",axis=1), df_business[\"is_open\"])"
   ]
  },
  {
   "cell_type": "code",
   "execution_count": 18,
   "metadata": {},
   "outputs": [],
   "source": [
    "df_business = pd.concat([X, y], axis=1)"
   ]
  },
  {
   "cell_type": "code",
   "execution_count": 19,
   "metadata": {},
   "outputs": [
    {
     "data": {
      "text/plain": [
       "1    42928\n",
       "0    42928\n",
       "Name: is_open, dtype: int64"
      ]
     },
     "execution_count": 19,
     "metadata": {},
     "output_type": "execute_result"
    }
   ],
   "source": [
    "y.value_counts()"
   ]
  },
  {
   "cell_type": "markdown",
   "metadata": {},
   "source": [
    "#### Train-test split"
   ]
  },
  {
   "cell_type": "code",
   "execution_count": 20,
   "metadata": {},
   "outputs": [],
   "source": [
    "from sklearn.preprocessing import OneHotEncoder, StandardScaler\n",
    "\n",
    "categorical_preprocessor = OneHotEncoder(handle_unknown=\"ignore\")\n",
    "numerical_preprocessor = StandardScaler()\n",
    "\n",
    "from sklearn.compose import ColumnTransformer\n",
    "\n",
    "preprocessor = ColumnTransformer([\n",
    "    ('one-hot-encoder', categorical_preprocessor, cat_features),\n",
    "    ('standard_scaler', numerical_preprocessor, num_features)])\n",
    "\n",
    "from sklearn.model_selection import train_test_split\n",
    "\n",
    "data_train, data_test, target_train, target_test = train_test_split(\n",
    "    df_business.drop(\"is_open\",axis=1), df_business[\"is_open\"], random_state=42)"
   ]
  },
  {
   "cell_type": "markdown",
   "metadata": {},
   "source": [
    "### Logistic regression"
   ]
  },
  {
   "cell_type": "code",
   "execution_count": 21,
   "metadata": {},
   "outputs": [
    {
     "data": {
      "text/html": [
       "<style>#sk-container-id-1 {color: black;background-color: white;}#sk-container-id-1 pre{padding: 0;}#sk-container-id-1 div.sk-toggleable {background-color: white;}#sk-container-id-1 label.sk-toggleable__label {cursor: pointer;display: block;width: 100%;margin-bottom: 0;padding: 0.3em;box-sizing: border-box;text-align: center;}#sk-container-id-1 label.sk-toggleable__label-arrow:before {content: \"▸\";float: left;margin-right: 0.25em;color: #696969;}#sk-container-id-1 label.sk-toggleable__label-arrow:hover:before {color: black;}#sk-container-id-1 div.sk-estimator:hover label.sk-toggleable__label-arrow:before {color: black;}#sk-container-id-1 div.sk-toggleable__content {max-height: 0;max-width: 0;overflow: hidden;text-align: left;background-color: #f0f8ff;}#sk-container-id-1 div.sk-toggleable__content pre {margin: 0.2em;color: black;border-radius: 0.25em;background-color: #f0f8ff;}#sk-container-id-1 input.sk-toggleable__control:checked~div.sk-toggleable__content {max-height: 200px;max-width: 100%;overflow: auto;}#sk-container-id-1 input.sk-toggleable__control:checked~label.sk-toggleable__label-arrow:before {content: \"▾\";}#sk-container-id-1 div.sk-estimator input.sk-toggleable__control:checked~label.sk-toggleable__label {background-color: #d4ebff;}#sk-container-id-1 div.sk-label input.sk-toggleable__control:checked~label.sk-toggleable__label {background-color: #d4ebff;}#sk-container-id-1 input.sk-hidden--visually {border: 0;clip: rect(1px 1px 1px 1px);clip: rect(1px, 1px, 1px, 1px);height: 1px;margin: -1px;overflow: hidden;padding: 0;position: absolute;width: 1px;}#sk-container-id-1 div.sk-estimator {font-family: monospace;background-color: #f0f8ff;border: 1px dotted black;border-radius: 0.25em;box-sizing: border-box;margin-bottom: 0.5em;}#sk-container-id-1 div.sk-estimator:hover {background-color: #d4ebff;}#sk-container-id-1 div.sk-parallel-item::after {content: \"\";width: 100%;border-bottom: 1px solid gray;flex-grow: 1;}#sk-container-id-1 div.sk-label:hover label.sk-toggleable__label {background-color: #d4ebff;}#sk-container-id-1 div.sk-serial::before {content: \"\";position: absolute;border-left: 1px solid gray;box-sizing: border-box;top: 0;bottom: 0;left: 50%;z-index: 0;}#sk-container-id-1 div.sk-serial {display: flex;flex-direction: column;align-items: center;background-color: white;padding-right: 0.2em;padding-left: 0.2em;position: relative;}#sk-container-id-1 div.sk-item {position: relative;z-index: 1;}#sk-container-id-1 div.sk-parallel {display: flex;align-items: stretch;justify-content: center;background-color: white;position: relative;}#sk-container-id-1 div.sk-item::before, #sk-container-id-1 div.sk-parallel-item::before {content: \"\";position: absolute;border-left: 1px solid gray;box-sizing: border-box;top: 0;bottom: 0;left: 50%;z-index: -1;}#sk-container-id-1 div.sk-parallel-item {display: flex;flex-direction: column;z-index: 1;position: relative;background-color: white;}#sk-container-id-1 div.sk-parallel-item:first-child::after {align-self: flex-end;width: 50%;}#sk-container-id-1 div.sk-parallel-item:last-child::after {align-self: flex-start;width: 50%;}#sk-container-id-1 div.sk-parallel-item:only-child::after {width: 0;}#sk-container-id-1 div.sk-dashed-wrapped {border: 1px dashed gray;margin: 0 0.4em 0.5em 0.4em;box-sizing: border-box;padding-bottom: 0.4em;background-color: white;}#sk-container-id-1 div.sk-label label {font-family: monospace;font-weight: bold;display: inline-block;line-height: 1.2em;}#sk-container-id-1 div.sk-label-container {text-align: center;}#sk-container-id-1 div.sk-container {/* jupyter's `normalize.less` sets `[hidden] { display: none; }` but bootstrap.min.css set `[hidden] { display: none !important; }` so we also need the `!important` here to be able to override the default hidden behavior on the sphinx rendered scikit-learn.org. See: https://github.com/scikit-learn/scikit-learn/issues/21755 */display: inline-block !important;position: relative;}#sk-container-id-1 div.sk-text-repr-fallback {display: none;}</style><div id=\"sk-container-id-1\" class=\"sk-top-container\"><div class=\"sk-text-repr-fallback\"><pre>Pipeline(steps=[(&#x27;columntransformer&#x27;,\n",
       "                 ColumnTransformer(transformers=[(&#x27;one-hot-encoder&#x27;,\n",
       "                                                  OneHotEncoder(handle_unknown=&#x27;ignore&#x27;),\n",
       "                                                  [&#x27;city&#x27;, &#x27;state&#x27;,\n",
       "                                                   &#x27;postal_code&#x27;]),\n",
       "                                                 (&#x27;standard_scaler&#x27;,\n",
       "                                                  StandardScaler(),\n",
       "                                                  [&#x27;latitude&#x27;, &#x27;longitude&#x27;,\n",
       "                                                   &#x27;stars&#x27;, &#x27;review_count&#x27;,\n",
       "                                                   &#x27;last_activity&#x27;,\n",
       "                                                   &#x27;first_activity&#x27;, &#x27;age&#x27;,\n",
       "                                                   &#x27;total_tip_count&#x27;,\n",
       "                                                   &#x27;total_checkin_count&#x27;,\n",
       "                                                   &#x27;similar_restaurants&#x27;])])),\n",
       "                (&#x27;logisticregression&#x27;, LogisticRegression(max_iter=500))])</pre><b>In a Jupyter environment, please rerun this cell to show the HTML representation or trust the notebook. <br />On GitHub, the HTML representation is unable to render, please try loading this page with nbviewer.org.</b></div><div class=\"sk-container\" hidden><div class=\"sk-item sk-dashed-wrapped\"><div class=\"sk-label-container\"><div class=\"sk-label sk-toggleable\"><input class=\"sk-toggleable__control sk-hidden--visually\" id=\"sk-estimator-id-1\" type=\"checkbox\" ><label for=\"sk-estimator-id-1\" class=\"sk-toggleable__label sk-toggleable__label-arrow\">Pipeline</label><div class=\"sk-toggleable__content\"><pre>Pipeline(steps=[(&#x27;columntransformer&#x27;,\n",
       "                 ColumnTransformer(transformers=[(&#x27;one-hot-encoder&#x27;,\n",
       "                                                  OneHotEncoder(handle_unknown=&#x27;ignore&#x27;),\n",
       "                                                  [&#x27;city&#x27;, &#x27;state&#x27;,\n",
       "                                                   &#x27;postal_code&#x27;]),\n",
       "                                                 (&#x27;standard_scaler&#x27;,\n",
       "                                                  StandardScaler(),\n",
       "                                                  [&#x27;latitude&#x27;, &#x27;longitude&#x27;,\n",
       "                                                   &#x27;stars&#x27;, &#x27;review_count&#x27;,\n",
       "                                                   &#x27;last_activity&#x27;,\n",
       "                                                   &#x27;first_activity&#x27;, &#x27;age&#x27;,\n",
       "                                                   &#x27;total_tip_count&#x27;,\n",
       "                                                   &#x27;total_checkin_count&#x27;,\n",
       "                                                   &#x27;similar_restaurants&#x27;])])),\n",
       "                (&#x27;logisticregression&#x27;, LogisticRegression(max_iter=500))])</pre></div></div></div><div class=\"sk-serial\"><div class=\"sk-item sk-dashed-wrapped\"><div class=\"sk-label-container\"><div class=\"sk-label sk-toggleable\"><input class=\"sk-toggleable__control sk-hidden--visually\" id=\"sk-estimator-id-2\" type=\"checkbox\" ><label for=\"sk-estimator-id-2\" class=\"sk-toggleable__label sk-toggleable__label-arrow\">columntransformer: ColumnTransformer</label><div class=\"sk-toggleable__content\"><pre>ColumnTransformer(transformers=[(&#x27;one-hot-encoder&#x27;,\n",
       "                                 OneHotEncoder(handle_unknown=&#x27;ignore&#x27;),\n",
       "                                 [&#x27;city&#x27;, &#x27;state&#x27;, &#x27;postal_code&#x27;]),\n",
       "                                (&#x27;standard_scaler&#x27;, StandardScaler(),\n",
       "                                 [&#x27;latitude&#x27;, &#x27;longitude&#x27;, &#x27;stars&#x27;,\n",
       "                                  &#x27;review_count&#x27;, &#x27;last_activity&#x27;,\n",
       "                                  &#x27;first_activity&#x27;, &#x27;age&#x27;, &#x27;total_tip_count&#x27;,\n",
       "                                  &#x27;total_checkin_count&#x27;,\n",
       "                                  &#x27;similar_restaurants&#x27;])])</pre></div></div></div><div class=\"sk-parallel\"><div class=\"sk-parallel-item\"><div class=\"sk-item\"><div class=\"sk-label-container\"><div class=\"sk-label sk-toggleable\"><input class=\"sk-toggleable__control sk-hidden--visually\" id=\"sk-estimator-id-3\" type=\"checkbox\" ><label for=\"sk-estimator-id-3\" class=\"sk-toggleable__label sk-toggleable__label-arrow\">one-hot-encoder</label><div class=\"sk-toggleable__content\"><pre>[&#x27;city&#x27;, &#x27;state&#x27;, &#x27;postal_code&#x27;]</pre></div></div></div><div class=\"sk-serial\"><div class=\"sk-item\"><div class=\"sk-estimator sk-toggleable\"><input class=\"sk-toggleable__control sk-hidden--visually\" id=\"sk-estimator-id-4\" type=\"checkbox\" ><label for=\"sk-estimator-id-4\" class=\"sk-toggleable__label sk-toggleable__label-arrow\">OneHotEncoder</label><div class=\"sk-toggleable__content\"><pre>OneHotEncoder(handle_unknown=&#x27;ignore&#x27;)</pre></div></div></div></div></div></div><div class=\"sk-parallel-item\"><div class=\"sk-item\"><div class=\"sk-label-container\"><div class=\"sk-label sk-toggleable\"><input class=\"sk-toggleable__control sk-hidden--visually\" id=\"sk-estimator-id-5\" type=\"checkbox\" ><label for=\"sk-estimator-id-5\" class=\"sk-toggleable__label sk-toggleable__label-arrow\">standard_scaler</label><div class=\"sk-toggleable__content\"><pre>[&#x27;latitude&#x27;, &#x27;longitude&#x27;, &#x27;stars&#x27;, &#x27;review_count&#x27;, &#x27;last_activity&#x27;, &#x27;first_activity&#x27;, &#x27;age&#x27;, &#x27;total_tip_count&#x27;, &#x27;total_checkin_count&#x27;, &#x27;similar_restaurants&#x27;]</pre></div></div></div><div class=\"sk-serial\"><div class=\"sk-item\"><div class=\"sk-estimator sk-toggleable\"><input class=\"sk-toggleable__control sk-hidden--visually\" id=\"sk-estimator-id-6\" type=\"checkbox\" ><label for=\"sk-estimator-id-6\" class=\"sk-toggleable__label sk-toggleable__label-arrow\">StandardScaler</label><div class=\"sk-toggleable__content\"><pre>StandardScaler()</pre></div></div></div></div></div></div></div></div><div class=\"sk-item\"><div class=\"sk-estimator sk-toggleable\"><input class=\"sk-toggleable__control sk-hidden--visually\" id=\"sk-estimator-id-7\" type=\"checkbox\" ><label for=\"sk-estimator-id-7\" class=\"sk-toggleable__label sk-toggleable__label-arrow\">LogisticRegression</label><div class=\"sk-toggleable__content\"><pre>LogisticRegression(max_iter=500)</pre></div></div></div></div></div></div></div>"
      ],
      "text/plain": [
       "Pipeline(steps=[('columntransformer',\n",
       "                 ColumnTransformer(transformers=[('one-hot-encoder',\n",
       "                                                  OneHotEncoder(handle_unknown='ignore'),\n",
       "                                                  ['city', 'state',\n",
       "                                                   'postal_code']),\n",
       "                                                 ('standard_scaler',\n",
       "                                                  StandardScaler(),\n",
       "                                                  ['latitude', 'longitude',\n",
       "                                                   'stars', 'review_count',\n",
       "                                                   'last_activity',\n",
       "                                                   'first_activity', 'age',\n",
       "                                                   'total_tip_count',\n",
       "                                                   'total_checkin_count',\n",
       "                                                   'similar_restaurants'])])),\n",
       "                ('logisticregression', LogisticRegression(max_iter=500))])"
      ]
     },
     "execution_count": 21,
     "metadata": {},
     "output_type": "execute_result"
    }
   ],
   "source": [
    "from sklearn.linear_model import LogisticRegression\n",
    "from sklearn.pipeline import make_pipeline\n",
    "\n",
    "model_logistic = make_pipeline(preprocessor, LogisticRegression(max_iter=500))\n",
    "model_logistic\n",
    "\n"
   ]
  },
  {
   "cell_type": "markdown",
   "metadata": {},
   "source": [
    "#### Performance evaluation"
   ]
  },
  {
   "cell_type": "code",
   "execution_count": 23,
   "metadata": {},
   "outputs": [],
   "source": [
    "_ = model_logistic.fit(data_train, target_train)"
   ]
  },
  {
   "cell_type": "code",
   "execution_count": 24,
   "metadata": {},
   "outputs": [],
   "source": [
    "pred_test = model_logistic.predict(data_test)"
   ]
  },
  {
   "cell_type": "code",
   "execution_count": 25,
   "metadata": {},
   "outputs": [
    {
     "name": "stdout",
     "output_type": "stream",
     "text": [
      "              precision    recall  f1-score   support\n",
      "\n",
      "           0       0.66      0.78      0.71     10672\n",
      "           1       0.73      0.60      0.66     10792\n",
      "\n",
      "    accuracy                           0.69     21464\n",
      "   macro avg       0.69      0.69      0.69     21464\n",
      "weighted avg       0.69      0.69      0.69     21464\n",
      "\n"
     ]
    }
   ],
   "source": [
    "model_logistic.score(data_test, target_test)\n",
    "print(metrics.classification_report(target_test, pred_test))"
   ]
  },
  {
   "cell_type": "code",
   "execution_count": 26,
   "metadata": {},
   "outputs": [
    {
     "data": {
      "image/png": "[encoded data removed]",
      "text/plain": [
       "<Figure size 500x500 with 1 Axes>"
      ]
     },
     "metadata": {},
     "output_type": "display_data"
    }
   ],
   "source": [
    "\n",
    "confusion_matrix_plot(target_test, pred_test)"
   ]
  },
  {
   "cell_type": "markdown",
   "metadata": {},
   "source": [
    "### Support vector machine"
   ]
  },
  {
   "cell_type": "code",
   "execution_count": 27,
   "metadata": {},
   "outputs": [
    {
     "data": {
      "text/html": [
       "<style>#sk-container-id-2 {color: black;background-color: white;}#sk-container-id-2 pre{padding: 0;}#sk-container-id-2 div.sk-toggleable {background-color: white;}#sk-container-id-2 label.sk-toggleable__label {cursor: pointer;display: block;width: 100%;margin-bottom: 0;padding: 0.3em;box-sizing: border-box;text-align: center;}#sk-container-id-2 label.sk-toggleable__label-arrow:before {content: \"▸\";float: left;margin-right: 0.25em;color: #696969;}#sk-container-id-2 label.sk-toggleable__label-arrow:hover:before {color: black;}#sk-container-id-2 div.sk-estimator:hover label.sk-toggleable__label-arrow:before {color: black;}#sk-container-id-2 div.sk-toggleable__content {max-height: 0;max-width: 0;overflow: hidden;text-align: left;background-color: #f0f8ff;}#sk-container-id-2 div.sk-toggleable__content pre {margin: 0.2em;color: black;border-radius: 0.25em;background-color: #f0f8ff;}#sk-container-id-2 input.sk-toggleable__control:checked~div.sk-toggleable__content {max-height: 200px;max-width: 100%;overflow: auto;}#sk-container-id-2 input.sk-toggleable__control:checked~label.sk-toggleable__label-arrow:before {content: \"▾\";}#sk-container-id-2 div.sk-estimator input.sk-toggleable__control:checked~label.sk-toggleable__label {background-color: #d4ebff;}#sk-container-id-2 div.sk-label input.sk-toggleable__control:checked~label.sk-toggleable__label {background-color: #d4ebff;}#sk-container-id-2 input.sk-hidden--visually {border: 0;clip: rect(1px 1px 1px 1px);clip: rect(1px, 1px, 1px, 1px);height: 1px;margin: -1px;overflow: hidden;padding: 0;position: absolute;width: 1px;}#sk-container-id-2 div.sk-estimator {font-family: monospace;background-color: #f0f8ff;border: 1px dotted black;border-radius: 0.25em;box-sizing: border-box;margin-bottom: 0.5em;}#sk-container-id-2 div.sk-estimator:hover {background-color: #d4ebff;}#sk-container-id-2 div.sk-parallel-item::after {content: \"\";width: 100%;border-bottom: 1px solid gray;flex-grow: 1;}#sk-container-id-2 div.sk-label:hover label.sk-toggleable__label {background-color: #d4ebff;}#sk-container-id-2 div.sk-serial::before {content: \"\";position: absolute;border-left: 1px solid gray;box-sizing: border-box;top: 0;bottom: 0;left: 50%;z-index: 0;}#sk-container-id-2 div.sk-serial {display: flex;flex-direction: column;align-items: center;background-color: white;padding-right: 0.2em;padding-left: 0.2em;position: relative;}#sk-container-id-2 div.sk-item {position: relative;z-index: 1;}#sk-container-id-2 div.sk-parallel {display: flex;align-items: stretch;justify-content: center;background-color: white;position: relative;}#sk-container-id-2 div.sk-item::before, #sk-container-id-2 div.sk-parallel-item::before {content: \"\";position: absolute;border-left: 1px solid gray;box-sizing: border-box;top: 0;bottom: 0;left: 50%;z-index: -1;}#sk-container-id-2 div.sk-parallel-item {display: flex;flex-direction: column;z-index: 1;position: relative;background-color: white;}#sk-container-id-2 div.sk-parallel-item:first-child::after {align-self: flex-end;width: 50%;}#sk-container-id-2 div.sk-parallel-item:last-child::after {align-self: flex-start;width: 50%;}#sk-container-id-2 div.sk-parallel-item:only-child::after {width: 0;}#sk-container-id-2 div.sk-dashed-wrapped {border: 1px dashed gray;margin: 0 0.4em 0.5em 0.4em;box-sizing: border-box;padding-bottom: 0.4em;background-color: white;}#sk-container-id-2 div.sk-label label {font-family: monospace;font-weight: bold;display: inline-block;line-height: 1.2em;}#sk-container-id-2 div.sk-label-container {text-align: center;}#sk-container-id-2 div.sk-container {/* jupyter's `normalize.less` sets `[hidden] { display: none; }` but bootstrap.min.css set `[hidden] { display: none !important; }` so we also need the `!important` here to be able to override the default hidden behavior on the sphinx rendered scikit-learn.org. See: https://github.com/scikit-learn/scikit-learn/issues/21755 */display: inline-block !important;position: relative;}#sk-container-id-2 div.sk-text-repr-fallback {display: none;}</style><div id=\"sk-container-id-2\" class=\"sk-top-container\"><div class=\"sk-text-repr-fallback\"><pre>Pipeline(steps=[(&#x27;columntransformer&#x27;,\n",
       "                 ColumnTransformer(transformers=[(&#x27;one-hot-encoder&#x27;,\n",
       "                                                  OneHotEncoder(handle_unknown=&#x27;ignore&#x27;),\n",
       "                                                  [&#x27;city&#x27;, &#x27;state&#x27;,\n",
       "                                                   &#x27;postal_code&#x27;]),\n",
       "                                                 (&#x27;standard_scaler&#x27;,\n",
       "                                                  StandardScaler(),\n",
       "                                                  [&#x27;latitude&#x27;, &#x27;longitude&#x27;,\n",
       "                                                   &#x27;stars&#x27;, &#x27;review_count&#x27;,\n",
       "                                                   &#x27;last_activity&#x27;,\n",
       "                                                   &#x27;first_activity&#x27;, &#x27;age&#x27;,\n",
       "                                                   &#x27;total_tip_count&#x27;,\n",
       "                                                   &#x27;total_checkin_count&#x27;,\n",
       "                                                   &#x27;similar_restaurants&#x27;])])),\n",
       "                (&#x27;svc&#x27;, SVC())])</pre><b>In a Jupyter environment, please rerun this cell to show the HTML representation or trust the notebook. <br />On GitHub, the HTML representation is unable to render, please try loading this page with nbviewer.org.</b></div><div class=\"sk-container\" hidden><div class=\"sk-item sk-dashed-wrapped\"><div class=\"sk-label-container\"><div class=\"sk-label sk-toggleable\"><input class=\"sk-toggleable__control sk-hidden--visually\" id=\"sk-estimator-id-8\" type=\"checkbox\" ><label for=\"sk-estimator-id-8\" class=\"sk-toggleable__label sk-toggleable__label-arrow\">Pipeline</label><div class=\"sk-toggleable__content\"><pre>Pipeline(steps=[(&#x27;columntransformer&#x27;,\n",
       "                 ColumnTransformer(transformers=[(&#x27;one-hot-encoder&#x27;,\n",
       "                                                  OneHotEncoder(handle_unknown=&#x27;ignore&#x27;),\n",
       "                                                  [&#x27;city&#x27;, &#x27;state&#x27;,\n",
       "                                                   &#x27;postal_code&#x27;]),\n",
       "                                                 (&#x27;standard_scaler&#x27;,\n",
       "                                                  StandardScaler(),\n",
       "                                                  [&#x27;latitude&#x27;, &#x27;longitude&#x27;,\n",
       "                                                   &#x27;stars&#x27;, &#x27;review_count&#x27;,\n",
       "                                                   &#x27;last_activity&#x27;,\n",
       "                                                   &#x27;first_activity&#x27;, &#x27;age&#x27;,\n",
       "                                                   &#x27;total_tip_count&#x27;,\n",
       "                                                   &#x27;total_checkin_count&#x27;,\n",
       "                                                   &#x27;similar_restaurants&#x27;])])),\n",
       "                (&#x27;svc&#x27;, SVC())])</pre></div></div></div><div class=\"sk-serial\"><div class=\"sk-item sk-dashed-wrapped\"><div class=\"sk-label-container\"><div class=\"sk-label sk-toggleable\"><input class=\"sk-toggleable__control sk-hidden--visually\" id=\"sk-estimator-id-9\" type=\"checkbox\" ><label for=\"sk-estimator-id-9\" class=\"sk-toggleable__label sk-toggleable__label-arrow\">columntransformer: ColumnTransformer</label><div class=\"sk-toggleable__content\"><pre>ColumnTransformer(transformers=[(&#x27;one-hot-encoder&#x27;,\n",
       "                                 OneHotEncoder(handle_unknown=&#x27;ignore&#x27;),\n",
       "                                 [&#x27;city&#x27;, &#x27;state&#x27;, &#x27;postal_code&#x27;]),\n",
       "                                (&#x27;standard_scaler&#x27;, StandardScaler(),\n",
       "                                 [&#x27;latitude&#x27;, &#x27;longitude&#x27;, &#x27;stars&#x27;,\n",
       "                                  &#x27;review_count&#x27;, &#x27;last_activity&#x27;,\n",
       "                                  &#x27;first_activity&#x27;, &#x27;age&#x27;, &#x27;total_tip_count&#x27;,\n",
       "                                  &#x27;total_checkin_count&#x27;,\n",
       "                                  &#x27;similar_restaurants&#x27;])])</pre></div></div></div><div class=\"sk-parallel\"><div class=\"sk-parallel-item\"><div class=\"sk-item\"><div class=\"sk-label-container\"><div class=\"sk-label sk-toggleable\"><input class=\"sk-toggleable__control sk-hidden--visually\" id=\"sk-estimator-id-10\" type=\"checkbox\" ><label for=\"sk-estimator-id-10\" class=\"sk-toggleable__label sk-toggleable__label-arrow\">one-hot-encoder</label><div class=\"sk-toggleable__content\"><pre>[&#x27;city&#x27;, &#x27;state&#x27;, &#x27;postal_code&#x27;]</pre></div></div></div><div class=\"sk-serial\"><div class=\"sk-item\"><div class=\"sk-estimator sk-toggleable\"><input class=\"sk-toggleable__control sk-hidden--visually\" id=\"sk-estimator-id-11\" type=\"checkbox\" ><label for=\"sk-estimator-id-11\" class=\"sk-toggleable__label sk-toggleable__label-arrow\">OneHotEncoder</label><div class=\"sk-toggleable__content\"><pre>OneHotEncoder(handle_unknown=&#x27;ignore&#x27;)</pre></div></div></div></div></div></div><div class=\"sk-parallel-item\"><div class=\"sk-item\"><div class=\"sk-label-container\"><div class=\"sk-label sk-toggleable\"><input class=\"sk-toggleable__control sk-hidden--visually\" id=\"sk-estimator-id-12\" type=\"checkbox\" ><label for=\"sk-estimator-id-12\" class=\"sk-toggleable__label sk-toggleable__label-arrow\">standard_scaler</label><div class=\"sk-toggleable__content\"><pre>[&#x27;latitude&#x27;, &#x27;longitude&#x27;, &#x27;stars&#x27;, &#x27;review_count&#x27;, &#x27;last_activity&#x27;, &#x27;first_activity&#x27;, &#x27;age&#x27;, &#x27;total_tip_count&#x27;, &#x27;total_checkin_count&#x27;, &#x27;similar_restaurants&#x27;]</pre></div></div></div><div class=\"sk-serial\"><div class=\"sk-item\"><div class=\"sk-estimator sk-toggleable\"><input class=\"sk-toggleable__control sk-hidden--visually\" id=\"sk-estimator-id-13\" type=\"checkbox\" ><label for=\"sk-estimator-id-13\" class=\"sk-toggleable__label sk-toggleable__label-arrow\">StandardScaler</label><div class=\"sk-toggleable__content\"><pre>StandardScaler()</pre></div></div></div></div></div></div></div></div><div class=\"sk-item\"><div class=\"sk-estimator sk-toggleable\"><input class=\"sk-toggleable__control sk-hidden--visually\" id=\"sk-estimator-id-14\" type=\"checkbox\" ><label for=\"sk-estimator-id-14\" class=\"sk-toggleable__label sk-toggleable__label-arrow\">SVC</label><div class=\"sk-toggleable__content\"><pre>SVC()</pre></div></div></div></div></div></div></div>"
      ],
      "text/plain": [
       "Pipeline(steps=[('columntransformer',\n",
       "                 ColumnTransformer(transformers=[('one-hot-encoder',\n",
       "                                                  OneHotEncoder(handle_unknown='ignore'),\n",
       "                                                  ['city', 'state',\n",
       "                                                   'postal_code']),\n",
       "                                                 ('standard_scaler',\n",
       "                                                  StandardScaler(),\n",
       "                                                  ['latitude', 'longitude',\n",
       "                                                   'stars', 'review_count',\n",
       "                                                   'last_activity',\n",
       "                                                   'first_activity', 'age',\n",
       "                                                   'total_tip_count',\n",
       "                                                   'total_checkin_count',\n",
       "                                                   'similar_restaurants'])])),\n",
       "                ('svc', SVC())])"
      ]
     },
     "execution_count": 27,
     "metadata": {},
     "output_type": "execute_result"
    }
   ],
   "source": [
    "\n",
    "from sklearn import svm\n",
    "from sklearn.pipeline import make_pipeline\n",
    "\n",
    "model_svc = make_pipeline(preprocessor, svm.SVC())\n",
    "model_svc\n",
    "\n"
   ]
  },
  {
   "cell_type": "code",
   "execution_count": 28,
   "metadata": {},
   "outputs": [],
   "source": [
    "_ = model_svc.fit(data_train, target_train)"
   ]
  },
  {
   "cell_type": "code",
   "execution_count": 29,
   "metadata": {},
   "outputs": [],
   "source": [
    "pred_test = model_svc.predict(data_test)"
   ]
  },
  {
   "cell_type": "markdown",
   "metadata": {},
   "source": [
    "#### Performance evaluation"
   ]
  },
  {
   "cell_type": "code",
   "execution_count": 32,
   "metadata": {},
   "outputs": [
    {
     "name": "stdout",
     "output_type": "stream",
     "text": [
      "              precision    recall  f1-score   support\n",
      "\n",
      "           0       0.75      0.91      0.82     10672\n",
      "           1       0.89      0.70      0.79     10792\n",
      "\n",
      "    accuracy                           0.81     21464\n",
      "   macro avg       0.82      0.81      0.80     21464\n",
      "weighted avg       0.82      0.81      0.80     21464\n",
      "\n"
     ]
    }
   ],
   "source": [
    "model_svc.score(data_test, target_test)\n",
    "print(metrics.classification_report(target_test, pred_test))"
   ]
  },
  {
   "cell_type": "code",
   "execution_count": 33,
   "metadata": {},
   "outputs": [
    {
     "name": "stdout",
     "output_type": "stream",
     "text": [
      "[[9742  930]\n",
      " [3217 7575]]\n"
     ]
    },
    {
     "data": {
      "image/png": "[encoded data removed]",
      "text/plain": [
       "<Figure size 500x500 with 1 Axes>"
      ]
     },
     "metadata": {},
     "output_type": "display_data"
    }
   ],
   "source": [
    "print(metrics.confusion_matrix(target_test, pred_test))\n",
    "\n",
    "\n",
    "confusion_matrix_plot(target_test, pred_test)"
   ]
  },
  {
   "cell_type": "markdown",
   "metadata": {},
   "source": [
    "### Catboost"
   ]
  },
  {
   "cell_type": "code",
   "execution_count": 48,
   "metadata": {},
   "outputs": [],
   "source": [
    "train_dataset = cb.Pool(data_train, target_train, cat_features = cat_features) \n",
    "test_dataset = cb.Pool(data_test, target_test, cat_features = cat_features)"
   ]
  },
  {
   "cell_type": "markdown",
   "metadata": {},
   "source": [
    "**Grid search is done to find the best parameters,\n",
    "but it is commented because it takes longer time to run**"
   ]
  },
  {
   "cell_type": "code",
   "execution_count": null,
   "metadata": {},
   "outputs": [],
   "source": [
    "\"\"\"\n",
    "# Performing grid search to identify the best hyper-parameters\n",
    "grid = {'iterations': [100, 150, 200],\n",
    "        'learning_rate': [0.03, 0.1],\n",
    "        'depth': [2, 4, 6, 8],\n",
    "        'l2_leaf_reg': [0.2, 0.5, 1, 3]}\n",
    "model.grid_search(grid, train_dataset)\n",
    "\"\"\""
   ]
  },
  {
   "cell_type": "code",
   "execution_count": 50,
   "metadata": {},
   "outputs": [],
   "source": [
    "model = cb.CatBoostClassifier(iterations = 200, learning_rate =0.1, l2_leaf_reg=0.2,depth=8)"
   ]
  },
  {
   "cell_type": "code",
   "execution_count": 51,
   "metadata": {
    "scrolled": true
   },
   "outputs": [
    {
     "name": "stdout",
     "output_type": "stream",
     "text": [
      "0:\tlearn: 0.6648089\ttotal: 52.6ms\tremaining: 10.5s\n",
      "1:\tlearn: 0.6203822\ttotal: 99.4ms\tremaining: 9.84s\n",
      "2:\tlearn: 0.5826186\ttotal: 138ms\tremaining: 9.07s\n",
      "3:\tlearn: 0.5562374\ttotal: 171ms\tremaining: 8.38s\n",
      "4:\tlearn: 0.5365531\ttotal: 196ms\tremaining: 7.65s\n",
      "5:\tlearn: 0.5245594\ttotal: 222ms\tremaining: 7.18s\n",
      "6:\tlearn: 0.5031353\ttotal: 252ms\tremaining: 6.94s\n",
      "7:\tlearn: 0.4943005\ttotal: 286ms\tremaining: 6.86s\n",
      "8:\tlearn: 0.4840355\ttotal: 314ms\tremaining: 6.66s\n",
      "9:\tlearn: 0.4786388\ttotal: 341ms\tremaining: 6.49s\n",
      "10:\tlearn: 0.4727496\ttotal: 369ms\tremaining: 6.34s\n",
      "11:\tlearn: 0.4608929\ttotal: 395ms\tremaining: 6.19s\n",
      "12:\tlearn: 0.4562764\ttotal: 421ms\tremaining: 6.06s\n",
      "13:\tlearn: 0.4436087\ttotal: 449ms\tremaining: 5.96s\n",
      "14:\tlearn: 0.4397862\ttotal: 474ms\tremaining: 5.85s\n",
      "15:\tlearn: 0.4350850\ttotal: 508ms\tremaining: 5.84s\n",
      "16:\tlearn: 0.4293009\ttotal: 536ms\tremaining: 5.77s\n",
      "17:\tlearn: 0.4156591\ttotal: 568ms\tremaining: 5.75s\n",
      "18:\tlearn: 0.4096878\ttotal: 595ms\tremaining: 5.67s\n",
      "19:\tlearn: 0.4084623\ttotal: 623ms\tremaining: 5.6s\n",
      "20:\tlearn: 0.4051542\ttotal: 651ms\tremaining: 5.55s\n",
      "21:\tlearn: 0.3987148\ttotal: 677ms\tremaining: 5.48s\n",
      "22:\tlearn: 0.3955149\ttotal: 704ms\tremaining: 5.42s\n",
      "23:\tlearn: 0.3912927\ttotal: 738ms\tremaining: 5.41s\n",
      "24:\tlearn: 0.3865520\ttotal: 765ms\tremaining: 5.36s\n",
      "25:\tlearn: 0.3787844\ttotal: 792ms\tremaining: 5.3s\n",
      "26:\tlearn: 0.3703511\ttotal: 821ms\tremaining: 5.26s\n",
      "27:\tlearn: 0.3622259\ttotal: 848ms\tremaining: 5.21s\n",
      "28:\tlearn: 0.3592044\ttotal: 875ms\tremaining: 5.16s\n",
      "29:\tlearn: 0.3570805\ttotal: 902ms\tremaining: 5.11s\n",
      "30:\tlearn: 0.3540570\ttotal: 930ms\tremaining: 5.07s\n",
      "31:\tlearn: 0.3528964\ttotal: 956ms\tremaining: 5.02s\n",
      "32:\tlearn: 0.3511503\ttotal: 984ms\tremaining: 4.98s\n",
      "33:\tlearn: 0.3499556\ttotal: 1.01s\tremaining: 4.93s\n",
      "34:\tlearn: 0.3468721\ttotal: 1.04s\tremaining: 4.89s\n",
      "35:\tlearn: 0.3385668\ttotal: 1.07s\tremaining: 4.87s\n",
      "36:\tlearn: 0.3346741\ttotal: 1.1s\tremaining: 4.84s\n",
      "37:\tlearn: 0.3289538\ttotal: 1.13s\tremaining: 4.8s\n",
      "38:\tlearn: 0.3266794\ttotal: 1.16s\tremaining: 4.77s\n",
      "39:\tlearn: 0.3234250\ttotal: 1.18s\tremaining: 4.74s\n",
      "40:\tlearn: 0.3219362\ttotal: 1.22s\tremaining: 4.72s\n",
      "41:\tlearn: 0.3193422\ttotal: 1.25s\tremaining: 4.71s\n",
      "42:\tlearn: 0.3162910\ttotal: 1.29s\tremaining: 4.7s\n",
      "43:\tlearn: 0.3107946\ttotal: 1.32s\tremaining: 4.67s\n",
      "44:\tlearn: 0.3092239\ttotal: 1.35s\tremaining: 4.64s\n",
      "45:\tlearn: 0.3087431\ttotal: 1.37s\tremaining: 4.59s\n",
      "46:\tlearn: 0.3075587\ttotal: 1.4s\tremaining: 4.55s\n",
      "47:\tlearn: 0.3058786\ttotal: 1.43s\tremaining: 4.51s\n",
      "48:\tlearn: 0.3027755\ttotal: 1.45s\tremaining: 4.47s\n",
      "49:\tlearn: 0.3006756\ttotal: 1.48s\tremaining: 4.43s\n",
      "50:\tlearn: 0.2971789\ttotal: 1.5s\tremaining: 4.38s\n",
      "51:\tlearn: 0.2925422\ttotal: 1.53s\tremaining: 4.36s\n",
      "52:\tlearn: 0.2898248\ttotal: 1.56s\tremaining: 4.33s\n",
      "53:\tlearn: 0.2882586\ttotal: 1.58s\tremaining: 4.28s\n",
      "54:\tlearn: 0.2864811\ttotal: 1.61s\tremaining: 4.24s\n",
      "55:\tlearn: 0.2851745\ttotal: 1.64s\tremaining: 4.21s\n",
      "56:\tlearn: 0.2832330\ttotal: 1.67s\tremaining: 4.18s\n",
      "57:\tlearn: 0.2822408\ttotal: 1.69s\tremaining: 4.14s\n",
      "58:\tlearn: 0.2815670\ttotal: 1.72s\tremaining: 4.11s\n",
      "59:\tlearn: 0.2811076\ttotal: 1.74s\tremaining: 4.06s\n",
      "60:\tlearn: 0.2803354\ttotal: 1.77s\tremaining: 4.03s\n",
      "61:\tlearn: 0.2784537\ttotal: 1.79s\tremaining: 4s\n",
      "62:\tlearn: 0.2779248\ttotal: 1.82s\tremaining: 3.96s\n",
      "63:\tlearn: 0.2750136\ttotal: 1.85s\tremaining: 3.93s\n",
      "64:\tlearn: 0.2736772\ttotal: 1.88s\tremaining: 3.9s\n",
      "65:\tlearn: 0.2722156\ttotal: 1.9s\tremaining: 3.87s\n",
      "66:\tlearn: 0.2713809\ttotal: 1.93s\tremaining: 3.83s\n",
      "67:\tlearn: 0.2694607\ttotal: 1.96s\tremaining: 3.79s\n",
      "68:\tlearn: 0.2691597\ttotal: 1.98s\tremaining: 3.76s\n",
      "69:\tlearn: 0.2653725\ttotal: 2.01s\tremaining: 3.74s\n",
      "70:\tlearn: 0.2649136\ttotal: 2.04s\tremaining: 3.71s\n",
      "71:\tlearn: 0.2644683\ttotal: 2.07s\tremaining: 3.67s\n",
      "72:\tlearn: 0.2616584\ttotal: 2.09s\tremaining: 3.64s\n",
      "73:\tlearn: 0.2613929\ttotal: 2.12s\tremaining: 3.61s\n",
      "74:\tlearn: 0.2611811\ttotal: 2.14s\tremaining: 3.57s\n",
      "75:\tlearn: 0.2591858\ttotal: 2.17s\tremaining: 3.54s\n",
      "76:\tlearn: 0.2588488\ttotal: 2.19s\tremaining: 3.51s\n",
      "77:\tlearn: 0.2565987\ttotal: 2.22s\tremaining: 3.48s\n",
      "78:\tlearn: 0.2563482\ttotal: 2.25s\tremaining: 3.44s\n",
      "79:\tlearn: 0.2555021\ttotal: 2.28s\tremaining: 3.42s\n",
      "80:\tlearn: 0.2545654\ttotal: 2.31s\tremaining: 3.4s\n",
      "81:\tlearn: 0.2543165\ttotal: 2.34s\tremaining: 3.36s\n",
      "82:\tlearn: 0.2535929\ttotal: 2.36s\tremaining: 3.33s\n",
      "83:\tlearn: 0.2509095\ttotal: 2.39s\tremaining: 3.3s\n",
      "84:\tlearn: 0.2507267\ttotal: 2.41s\tremaining: 3.26s\n",
      "85:\tlearn: 0.2505301\ttotal: 2.43s\tremaining: 3.22s\n",
      "86:\tlearn: 0.2467734\ttotal: 2.46s\tremaining: 3.19s\n",
      "87:\tlearn: 0.2455664\ttotal: 2.49s\tremaining: 3.17s\n",
      "88:\tlearn: 0.2451641\ttotal: 2.52s\tremaining: 3.14s\n",
      "89:\tlearn: 0.2433417\ttotal: 2.54s\tremaining: 3.11s\n",
      "90:\tlearn: 0.2431336\ttotal: 2.56s\tremaining: 3.07s\n",
      "91:\tlearn: 0.2400779\ttotal: 2.59s\tremaining: 3.04s\n",
      "92:\tlearn: 0.2364539\ttotal: 2.62s\tremaining: 3.02s\n",
      "93:\tlearn: 0.2361998\ttotal: 2.65s\tremaining: 2.98s\n",
      "94:\tlearn: 0.2342632\ttotal: 2.67s\tremaining: 2.95s\n",
      "95:\tlearn: 0.2330845\ttotal: 2.7s\tremaining: 2.93s\n",
      "96:\tlearn: 0.2324963\ttotal: 2.73s\tremaining: 2.9s\n",
      "97:\tlearn: 0.2308074\ttotal: 2.76s\tremaining: 2.87s\n",
      "98:\tlearn: 0.2299074\ttotal: 2.78s\tremaining: 2.84s\n",
      "99:\tlearn: 0.2283142\ttotal: 2.81s\tremaining: 2.81s\n",
      "100:\tlearn: 0.2257520\ttotal: 2.83s\tremaining: 2.78s\n",
      "101:\tlearn: 0.2232368\ttotal: 2.86s\tremaining: 2.75s\n",
      "102:\tlearn: 0.2195552\ttotal: 2.9s\tremaining: 2.73s\n",
      "103:\tlearn: 0.2171104\ttotal: 2.93s\tremaining: 2.7s\n",
      "104:\tlearn: 0.2168189\ttotal: 2.95s\tremaining: 2.67s\n",
      "105:\tlearn: 0.2162194\ttotal: 2.98s\tremaining: 2.64s\n",
      "106:\tlearn: 0.2150301\ttotal: 3s\tremaining: 2.61s\n",
      "107:\tlearn: 0.2138656\ttotal: 3.03s\tremaining: 2.58s\n",
      "108:\tlearn: 0.2136926\ttotal: 3.05s\tremaining: 2.55s\n",
      "109:\tlearn: 0.2134090\ttotal: 3.07s\tremaining: 2.51s\n",
      "110:\tlearn: 0.2129317\ttotal: 3.1s\tremaining: 2.48s\n",
      "111:\tlearn: 0.2087721\ttotal: 3.13s\tremaining: 2.46s\n",
      "112:\tlearn: 0.2085273\ttotal: 3.16s\tremaining: 2.43s\n",
      "113:\tlearn: 0.2072159\ttotal: 3.18s\tremaining: 2.4s\n",
      "114:\tlearn: 0.2063943\ttotal: 3.21s\tremaining: 2.37s\n",
      "115:\tlearn: 0.2058185\ttotal: 3.23s\tremaining: 2.34s\n",
      "116:\tlearn: 0.2055369\ttotal: 3.26s\tremaining: 2.31s\n",
      "117:\tlearn: 0.2040097\ttotal: 3.29s\tremaining: 2.29s\n",
      "118:\tlearn: 0.2028983\ttotal: 3.32s\tremaining: 2.26s\n",
      "119:\tlearn: 0.2028052\ttotal: 3.35s\tremaining: 2.23s\n",
      "120:\tlearn: 0.2023466\ttotal: 3.37s\tremaining: 2.2s\n",
      "121:\tlearn: 0.2014955\ttotal: 3.4s\tremaining: 2.17s\n",
      "122:\tlearn: 0.2006799\ttotal: 3.47s\tremaining: 2.17s\n",
      "123:\tlearn: 0.1998270\ttotal: 3.53s\tremaining: 2.16s\n",
      "124:\tlearn: 0.1984955\ttotal: 3.57s\tremaining: 2.14s\n",
      "125:\tlearn: 0.1977649\ttotal: 3.6s\tremaining: 2.11s\n",
      "126:\tlearn: 0.1963374\ttotal: 3.62s\tremaining: 2.08s\n",
      "127:\tlearn: 0.1953171\ttotal: 3.66s\tremaining: 2.06s\n",
      "128:\tlearn: 0.1949171\ttotal: 3.68s\tremaining: 2.02s\n",
      "129:\tlearn: 0.1939442\ttotal: 3.71s\tremaining: 2s\n",
      "130:\tlearn: 0.1931706\ttotal: 3.73s\tremaining: 1.97s\n",
      "131:\tlearn: 0.1914815\ttotal: 3.77s\tremaining: 1.94s\n",
      "132:\tlearn: 0.1903252\ttotal: 3.79s\tremaining: 1.91s\n",
      "133:\tlearn: 0.1894337\ttotal: 3.82s\tremaining: 1.88s\n",
      "134:\tlearn: 0.1883572\ttotal: 3.84s\tremaining: 1.85s\n",
      "135:\tlearn: 0.1875402\ttotal: 3.87s\tremaining: 1.82s\n",
      "136:\tlearn: 0.1866791\ttotal: 3.9s\tremaining: 1.79s\n",
      "137:\tlearn: 0.1856896\ttotal: 3.93s\tremaining: 1.77s\n",
      "138:\tlearn: 0.1827016\ttotal: 3.97s\tremaining: 1.74s\n",
      "139:\tlearn: 0.1823626\ttotal: 4s\tremaining: 1.71s\n",
      "140:\tlearn: 0.1816814\ttotal: 4.03s\tremaining: 1.68s\n",
      "141:\tlearn: 0.1811583\ttotal: 4.05s\tremaining: 1.66s\n",
      "142:\tlearn: 0.1809610\ttotal: 4.08s\tremaining: 1.63s\n",
      "143:\tlearn: 0.1777163\ttotal: 4.11s\tremaining: 1.6s\n",
      "144:\tlearn: 0.1774259\ttotal: 4.14s\tremaining: 1.57s\n",
      "145:\tlearn: 0.1768394\ttotal: 4.16s\tremaining: 1.54s\n",
      "146:\tlearn: 0.1765751\ttotal: 4.19s\tremaining: 1.51s\n",
      "147:\tlearn: 0.1752415\ttotal: 4.23s\tremaining: 1.48s\n",
      "148:\tlearn: 0.1749049\ttotal: 4.25s\tremaining: 1.46s\n",
      "149:\tlearn: 0.1742487\ttotal: 4.28s\tremaining: 1.43s\n",
      "150:\tlearn: 0.1730557\ttotal: 4.31s\tremaining: 1.4s\n",
      "151:\tlearn: 0.1722561\ttotal: 4.33s\tremaining: 1.37s\n",
      "152:\tlearn: 0.1716839\ttotal: 4.36s\tremaining: 1.34s\n",
      "153:\tlearn: 0.1703858\ttotal: 4.39s\tremaining: 1.31s\n",
      "154:\tlearn: 0.1696336\ttotal: 4.42s\tremaining: 1.28s\n",
      "155:\tlearn: 0.1691185\ttotal: 4.45s\tremaining: 1.25s\n",
      "156:\tlearn: 0.1682306\ttotal: 4.48s\tremaining: 1.23s\n",
      "157:\tlearn: 0.1671935\ttotal: 4.51s\tremaining: 1.2s\n",
      "158:\tlearn: 0.1668994\ttotal: 4.54s\tremaining: 1.17s\n",
      "159:\tlearn: 0.1663535\ttotal: 4.56s\tremaining: 1.14s\n",
      "160:\tlearn: 0.1659362\ttotal: 4.59s\tremaining: 1.11s\n",
      "161:\tlearn: 0.1654843\ttotal: 4.62s\tremaining: 1.08s\n"
     ]
    },
    {
     "name": "stdout",
     "output_type": "stream",
     "text": [
      "162:\tlearn: 0.1647599\ttotal: 4.66s\tremaining: 1.06s\n",
      "163:\tlearn: 0.1637540\ttotal: 4.68s\tremaining: 1.03s\n",
      "164:\tlearn: 0.1631534\ttotal: 4.71s\tremaining: 1s\n",
      "165:\tlearn: 0.1625957\ttotal: 4.74s\tremaining: 971ms\n",
      "166:\tlearn: 0.1617488\ttotal: 4.77s\tremaining: 943ms\n",
      "167:\tlearn: 0.1609780\ttotal: 4.8s\tremaining: 914ms\n",
      "168:\tlearn: 0.1606765\ttotal: 4.82s\tremaining: 885ms\n",
      "169:\tlearn: 0.1597445\ttotal: 4.85s\tremaining: 856ms\n",
      "170:\tlearn: 0.1588835\ttotal: 4.88s\tremaining: 828ms\n",
      "171:\tlearn: 0.1586513\ttotal: 4.91s\tremaining: 799ms\n",
      "172:\tlearn: 0.1583901\ttotal: 4.93s\tremaining: 770ms\n",
      "173:\tlearn: 0.1577401\ttotal: 4.96s\tremaining: 741ms\n",
      "174:\tlearn: 0.1566664\ttotal: 4.99s\tremaining: 713ms\n",
      "175:\tlearn: 0.1554982\ttotal: 5.02s\tremaining: 685ms\n",
      "176:\tlearn: 0.1545685\ttotal: 5.05s\tremaining: 656ms\n",
      "177:\tlearn: 0.1539265\ttotal: 5.08s\tremaining: 628ms\n",
      "178:\tlearn: 0.1532513\ttotal: 5.11s\tremaining: 600ms\n",
      "179:\tlearn: 0.1520587\ttotal: 5.15s\tremaining: 572ms\n",
      "180:\tlearn: 0.1516282\ttotal: 5.17s\tremaining: 543ms\n",
      "181:\tlearn: 0.1507972\ttotal: 5.21s\tremaining: 515ms\n",
      "182:\tlearn: 0.1497592\ttotal: 5.23s\tremaining: 486ms\n",
      "183:\tlearn: 0.1494219\ttotal: 5.26s\tremaining: 457ms\n",
      "184:\tlearn: 0.1489713\ttotal: 5.29s\tremaining: 429ms\n",
      "185:\tlearn: 0.1487161\ttotal: 5.32s\tremaining: 400ms\n",
      "186:\tlearn: 0.1481712\ttotal: 5.35s\tremaining: 372ms\n",
      "187:\tlearn: 0.1469774\ttotal: 5.38s\tremaining: 343ms\n",
      "188:\tlearn: 0.1467694\ttotal: 5.41s\tremaining: 315ms\n",
      "189:\tlearn: 0.1463417\ttotal: 5.44s\tremaining: 286ms\n",
      "190:\tlearn: 0.1446973\ttotal: 5.47s\tremaining: 258ms\n",
      "191:\tlearn: 0.1444710\ttotal: 5.49s\tremaining: 229ms\n",
      "192:\tlearn: 0.1427917\ttotal: 5.52s\tremaining: 200ms\n",
      "193:\tlearn: 0.1423648\ttotal: 5.55s\tremaining: 172ms\n",
      "194:\tlearn: 0.1420860\ttotal: 5.58s\tremaining: 143ms\n",
      "195:\tlearn: 0.1416551\ttotal: 5.61s\tremaining: 114ms\n",
      "196:\tlearn: 0.1415383\ttotal: 5.63s\tremaining: 85.8ms\n",
      "197:\tlearn: 0.1411852\ttotal: 5.66s\tremaining: 57.2ms\n",
      "198:\tlearn: 0.1409453\ttotal: 5.7s\tremaining: 28.6ms\n",
      "199:\tlearn: 0.1403695\ttotal: 5.73s\tremaining: 0us\n"
     ]
    },
    {
     "data": {
      "text/plain": [
       "<catboost.core.CatBoostClassifier at 0x7f867ba6ab60>"
      ]
     },
     "execution_count": 51,
     "metadata": {},
     "output_type": "execute_result"
    }
   ],
   "source": [
    "model.fit(train_dataset)"
   ]
  },
  {
   "cell_type": "code",
   "execution_count": 52,
   "metadata": {},
   "outputs": [],
   "source": [
    "y_pred = model.predict(data_test)"
   ]
  },
  {
   "cell_type": "markdown",
   "metadata": {},
   "source": [
    "#### Performance evaluation"
   ]
  },
  {
   "cell_type": "code",
   "execution_count": 53,
   "metadata": {
    "scrolled": false
   },
   "outputs": [
    {
     "data": {
      "image/png": "[encoded data removed]",
      "text/plain": [
       "<Figure size 500x500 with 1 Axes>"
      ]
     },
     "metadata": {},
     "output_type": "display_data"
    }
   ],
   "source": [
    "\n",
    "confusion_matrix_plot(target_test, y_pred)"
   ]
  },
  {
   "cell_type": "code",
   "execution_count": 54,
   "metadata": {},
   "outputs": [
    {
     "name": "stdout",
     "output_type": "stream",
     "text": [
      "              precision    recall  f1-score   support\n",
      "\n",
      "           0       0.94      1.00      0.97     10672\n",
      "           1       1.00      0.93      0.97     10792\n",
      "\n",
      "    accuracy                           0.97     21464\n",
      "   macro avg       0.97      0.97      0.97     21464\n",
      "weighted avg       0.97      0.97      0.97     21464\n",
      "\n"
     ]
    }
   ],
   "source": [
    "\n",
    "print(metrics.classification_report(target_test,y_pred))"
   ]
  },
  {
   "cell_type": "markdown",
   "metadata": {},
   "source": [
    "## Performance comparison of different models"
   ]
  },
  {
   "cell_type": "markdown",
   "metadata": {},
   "source": [
    "| Model   | Logistic Regression (F1) | Support Vector Classifier (F1) | Catboost (F1) |\n",
    "|---------|---------------------|---------------------------|----------|\n",
    "| Class 0 | 0.70                | 0.82                      | **0.97**     |\n",
    "| Class 1 | 0.66                | 0.78                      | **0.97**     |"
   ]
  },
  {
   "cell_type": "markdown",
   "metadata": {},
   "source": [
    "**Catboost model could used to predict as it gives F1 score better than the Logisitc Regression model and the Support Vector Classifier**"
   ]
  },
  {
   "cell_type": "code",
   "execution_count": null,
   "metadata": {},
   "outputs": [],
   "source": []
  }
 ],
 "metadata": {
  "kernelspec": {
   "display_name": "Python 3 (ipykernel)",
   "language": "python",
   "name": "python3"
  },
  "language_info": {
   "codemirror_mode": {
    "name": "ipython",
    "version": 3
   },
   "file_extension": ".py",
   "mimetype": "text/x-python",
   "name": "python",
   "nbconvert_exporter": "python",
   "pygments_lexer": "ipython3",
   "version": "3.10.6"
  }
 },
 "nbformat": 4,
 "nbformat_minor": 4
}
